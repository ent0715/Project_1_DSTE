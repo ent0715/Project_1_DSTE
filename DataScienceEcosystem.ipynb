{
 "cells": [
  {
   "cell_type": "markdown",
   "id": "5094c02b-ff4f-4ca2-b9a2-946814bf3f97",
   "metadata": {
    "panel-layout": {
     "height": 60.3125,
     "visible": true,
     "width": 100
    }
   },
   "source": [
    "# Data Science Tools and Ecosystem"
   ]
  },
  {
   "cell_type": "markdown",
   "id": "06383a87-52ea-4936-8f21-1aed0ac302b5",
   "metadata": {
    "panel-layout": {
     "height": 51,
     "visible": true,
     "width": 100
    }
   },
   "source": [
    "In this notebook, Data Science Tools and Ecosystem are summarized."
   ]
  },
  {
   "cell_type": "markdown",
   "id": "28433825-8591-4286-afb2-da786e22dcbb",
   "metadata": {
    "panel-layout": {
     "height": 148,
     "visible": true,
     "width": 100
    }
   },
   "source": [
    "**Objectives:**\n",
    "\n",
    "- Learn popular languages for Data Science.\n",
    "- Learn commonly used libraries in Data Science.\n",
    "- Learn when to use markdowns cells and code cells\n",
    "- Learn how to generate tables in markdown cells\n",
    "- Learn the syntax for basic math operations\n"
   ]
  },
  {
   "cell_type": "markdown",
   "id": "22e6f90e-dabf-4e64-b78b-97e60146d95d",
   "metadata": {
    "panel-layout": {
     "height": 199,
     "visible": true,
     "width": 100
    }
   },
   "source": [
    "Some of the popular languages that Data Scientists use are:\n",
    "1. Python\n",
    "2. R\n",
    "3. SQL\n",
    "4. Java\n",
    "5. Scala\n",
    "6. C++\n",
    "7. JavaScript\n",
    "8. Julia"
   ]
  },
  {
   "cell_type": "markdown",
   "id": "d30b2747-c640-46d2-b73b-e93a6771d8b6",
   "metadata": {
    "panel-layout": {
     "height": 473,
     "visible": true,
     "width": 100
    }
   },
   "source": [
    "Some of the commonly used libraries used by Data Scientists include:\n",
    "\n",
    "1. Python libraries\n",
    "   1. Data Analysis and Manipulation\n",
    "      1. Pandas\n",
    "      2. NumPy\n",
    "   2. Data Visualization\n",
    "      1. Matplotlib\n",
    "      2. Seaborn\n",
    "   3. Machine Learning and Artificial Intelligence\n",
    "      1. Scikit-learn\n",
    "      2. Keras\n",
    "      3. TensorFlow\n",
    "\n",
    "2. R libraries\n",
    "   1. Data Analysis and Manipulation\n",
    "      1. dplyr\n",
    "      2. tidyr\n",
    "   2. Data Visualization\n",
    "      1. ggplot2\n",
    "      2. plotly\n",
    "      3. lattice\n",
    "   3. Statistical Modeling\n",
    "      1. stats\n",
    "      2. lmtest"
   ]
  },
  {
   "cell_type": "markdown",
   "id": "042c6ffc-5195-409c-9728-0b2cdaf9f60b",
   "metadata": {
    "panel-layout": {
     "height": 117.546875,
     "visible": true,
     "width": 100
    }
   },
   "source": [
    "| Data Science Tools |\n",
    "-\n",
    "| JupyterLab |\n",
    "| RStudio |\n",
    "| VS Code |"
   ]
  },
  {
   "cell_type": "markdown",
   "id": "56473987-2eea-46e8-a583-2e7a12f4da18",
   "metadata": {
    "panel-layout": {
     "height": 64.03125,
     "visible": true,
     "width": 100
    }
   },
   "source": [
    "### Below are a few examples of evaluating arithmetic expressions in Python"
   ]
  },
  {
   "cell_type": "code",
   "execution_count": 8,
   "id": "db630dae-dbb9-4812-b2db-9d94fd912c60",
   "metadata": {
    "panel-layout": {
     "height": 27,
     "visible": true,
     "width": 100
    }
   },
   "outputs": [
    {
     "data": {
      "text/plain": [
       "17"
      ]
     },
     "execution_count": 8,
     "metadata": {},
     "output_type": "execute_result"
    }
   ],
   "source": [
    "# This is a simple arithmetic expression to multiply then add integers.\n",
    "result = (3 * 4) + 5\n",
    "result"
   ]
  },
  {
   "cell_type": "code",
   "execution_count": 9,
   "id": "b546bc9c-0e15-4bbb-88b0-7433351d219a",
   "metadata": {
    "panel-layout": {
     "height": 27,
     "visible": true,
     "width": 100
    }
   },
   "outputs": [
    {
     "data": {
      "text/plain": [
       "3.3333333333333335"
      ]
     },
     "execution_count": 9,
     "metadata": {},
     "output_type": "execute_result"
    }
   ],
   "source": [
    "# This will convert 200 minutes to hours by dividing by 60.\n",
    "hours = 200 / 60\n",
    "hours"
   ]
  },
  {
   "cell_type": "markdown",
   "id": "c60ba699-b379-4284-a494-48d9231cdd8e",
   "metadata": {
    "panel-layout": {
     "height": 83.546875,
     "visible": true,
     "width": 100
    }
   },
   "source": [
    "## Author\n",
    "\n",
    "Edgar N. Tafaleng"
   ]
  }
 ],
 "metadata": {
  "kernelspec": {
   "display_name": "Python 3 (ipykernel)",
   "language": "python",
   "name": "python3"
  },
  "language_info": {
   "codemirror_mode": {
    "name": "ipython",
    "version": 3
   },
   "file_extension": ".py",
   "mimetype": "text/x-python",
   "name": "python",
   "nbconvert_exporter": "python",
   "pygments_lexer": "ipython3",
   "version": "3.12.4"
  },
  "panel-cell-order": [
   "5094c02b-ff4f-4ca2-b9a2-946814bf3f97",
   "06383a87-52ea-4936-8f21-1aed0ac302b5",
   "28433825-8591-4286-afb2-da786e22dcbb",
   "22e6f90e-dabf-4e64-b78b-97e60146d95d",
   "d30b2747-c640-46d2-b73b-e93a6771d8b6",
   "042c6ffc-5195-409c-9728-0b2cdaf9f60b",
   "56473987-2eea-46e8-a583-2e7a12f4da18",
   "db630dae-dbb9-4812-b2db-9d94fd912c60",
   "b546bc9c-0e15-4bbb-88b0-7433351d219a",
   "c60ba699-b379-4284-a494-48d9231cdd8e"
  ]
 },
 "nbformat": 4,
 "nbformat_minor": 5
}
